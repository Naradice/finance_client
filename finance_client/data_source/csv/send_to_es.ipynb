{
 "cells": [
  {
   "cell_type": "code",
   "execution_count": 9,
   "metadata": {},
   "outputs": [],
   "source": [
    "import json, os, csv, time\n",
    "import pandas as pd\n",
    "import base64\n",
    "import datetime\n",
    "import urllib.request\n",
    "import hashlib\n",
    "import requests"
   ]
  },
  {
   "cell_type": "code",
   "execution_count": 2,
   "metadata": {},
   "outputs": [],
   "source": [
    "with open(\"es_config.json\", \"r\") as f:\n",
    "    file_content = json.load(f)\n",
    "username = file_content['user']\n",
    "password = file_content['pass']"
   ]
  },
  {
   "cell_type": "code",
   "execution_count": 3,
   "metadata": {},
   "outputs": [],
   "source": [
    "def send_json(data_json):\n",
    "     ## Send json to ES with creds -- TODO: read ES creds from env file.\n",
    "     url = \"http://192.168.100.144:5400\"\n",
    "     body = json.dumps(data_json)\n",
    "     jsondataasbytes = body.encode('utf-8')   # needs to be bytes\n",
    "\n",
    "     req = urllib.request.Request(url, data=jsondataasbytes, method=\"POST\")\n",
    "     req.add_header('Content-Type', 'application/json; charset=utf-8')\n",
    "     req.add_header('Content-Length', len(jsondataasbytes))\n",
    "     creds = base64.b64encode(('f{username}:{password}').encode('utf-8'))\n",
    "     req.add_header('Authorization', f'Basic {creds}')\n",
    "     ## Add error handling and retry logic\n",
    "     try:\n",
    "          with urllib.request.urlopen(req) as response:\n",
    "               response.close()\n",
    "               if response.status != 200:\n",
    "                    print(response.status, response.isclosed)\n",
    "                    print(response.info())\n",
    "                    while response.isclosed == False:\n",
    "                         time.sleep(3)\n",
    "                    time.sleep(1)\n",
    "                    send_json(data_json)\n",
    "     except urllib.error.HTTPError as err:\n",
    "          print(err.code)\n",
    "          return False, err\n",
    "     except urllib.error.URLError as err:\n",
    "          print(err.reason)\n",
    "          return False, err\n",
    "     except Exception as err:\n",
    "          print(err)\n",
    "          return False, err\n",
    "     \n",
    "\n",
    "     return True, None"
   ]
  },
  {
   "cell_type": "code",
   "execution_count": 34,
   "metadata": {},
   "outputs": [],
   "source": [
    "def send_json(data_json, retry_count=0):\n",
    "    ## Send json to ES with creds -- TODO: read ES creds from env file.\n",
    "    url = \"http://192.168.100.144:5400\"\n",
    "    body = json.dumps(data_json)\n",
    "    try:\n",
    "        res = requests.get(url, data=body, timeout=(10.0, 30))\n",
    "        if res.status_code == 200:\n",
    "            res.close()\n",
    "            return True, None\n",
    "        else:\n",
    "            print(\"failed: \" + str(res.status_code), res.text)\n",
    "            time.sleep(3)\n",
    "            return send_json(data_json, retry_count+1)\n",
    "    except TimeoutError as e:\n",
    "        print(\"timeout occured\")\n",
    "        print(e)\n",
    "        time.sleep(10)\n",
    "        return send_json(data_json, retry_count+1)\n",
    "    except Exception as e:\n",
    "        print(\"may be timeout occured\")\n",
    "        print(e)\n",
    "        time.sleep(30)\n",
    "        return send_json(data_json, retry_count+1)"
   ]
  },
  {
   "cell_type": "code",
   "execution_count": 35,
   "metadata": {},
   "outputs": [],
   "source": [
    "headers = ['Time,Open,High,Low,Close']\n",
    "m = hashlib.sha256()\n",
    "\n",
    "with open(\"./USDJPY_forex_min1.csv\", 'r') as f:\n",
    "    reader = csv.reader(f)\n",
    "    for i, ohlc in enumerate(reader):\n",
    "        ## convert date str to date then add one day\n",
    "        if i > 2144330:\n",
    "            date_str = ohlc[0]\n",
    "            date = datetime.datetime.fromisoformat(date_str)\n",
    "            date_str = date.isoformat()+\"Z\"\n",
    "            #delta = datetime.timedelta(days=1)\n",
    "            \n",
    "            ## Convert list to desired json format\n",
    "            scheme = {\n",
    "                \"open\": ohlc[1],\n",
    "                \"high\": ohlc[2],\n",
    "                \"low\": ohlc[3],\n",
    "                \"close\": ohlc[4],\n",
    "                \"volume\": 0,\n",
    "                \"provider\": \"forex\",\n",
    "                \"type\": \"usd_jpy\",\n",
    "                \"order\": \"mix\",\n",
    "                \"scheme\": \"candle\",\n",
    "                \"frame\": \"MIN1\"\n",
    "            }\n",
    "            \n",
    "            hash_org_str = f\"USD_JPY forex candle MIN1 ${date_str}\"\n",
    "            hash_org = hash_org_str.encode()\n",
    "            m.update(hash_org)\n",
    "            hash_value = m.hexdigest()\n",
    "            doc_id = hash_value\n",
    "            scheme[\"doc_id\"] = doc_id\n",
    "            scheme[\"@timestamp\"] = date_str\n",
    "\n",
    "            suc, err = send_json(scheme)\n",
    "            if suc:\n",
    "                time.sleep(0.2)\n",
    "            else:\n",
    "                last_index = i\n",
    "                print(f\"error occured on {last_index}\")\n",
    "                break"
   ]
  },
  {
   "cell_type": "code",
   "execution_count": null,
   "metadata": {},
   "outputs": [],
   "source": []
  },
  {
   "cell_type": "code",
   "execution_count": 33,
   "metadata": {},
   "outputs": [
    {
     "data": {
      "text/plain": [
       "2144333"
      ]
     },
     "execution_count": 33,
     "metadata": {},
     "output_type": "execute_result"
    }
   ],
   "source": [
    "i"
   ]
  },
  {
   "cell_type": "markdown",
   "metadata": {},
   "source": [
    "['__abstractmethods__', '__class__', '__del__', '__delattr__', '__dict__', '__dir__', '__doc__', '__enter__', '__eq__', '__exit__', '__format__', '__ge__', '__getattribute__', '__gt__', '__hash__', '__init__', '__init_subclass__', '__iter__', '__le__', '__lt__', '__module__', '__ne__', '__new__', '__next__', '__reduce__', '__reduce_ex__', '__repr__', '__setattr__', '__sizeof__', '__str__', '__subclasshook__', '_abc_impl', '_checkClosed', '_checkReadable', '_checkSeekable', '_checkWritable', '_check_close', '_close_conn', '_get_chunk_left', '_method', '_peek_chunked', '_read1_chunked', '_read_and_discard_trailer', '_read_next_chunk_size', '_read_status', '_readall_chunked', '_readinto_chunked', '_safe_read', '_safe_readinto', 'begin', 'chunk_left', 'chunked', 'close', 'closed', 'code', 'debuglevel', 'detach', 'fileno', 'flush', 'fp', 'getcode', 'getheader', 'getheaders', 'geturl', 'headers', 'info', 'isatty', 'isclosed', 'length', 'msg', 'peek', 'read', 'read1', 'readable', 'readinto', 'readinto1', 'readline', 'readlines', 'reason', 'seek', 'seekable', 'status', 'tell', 'truncate', 'url', 'version', 'will_close', 'writable', 'write', 'writelines']"
   ]
  }
 ],
 "metadata": {
  "interpreter": {
   "hash": "4fd41d77907ffdd09ebf18bedf1c3ee3739e227f2affdb5cbcb64c921993f609"
  },
  "kernelspec": {
   "display_name": "Python 3.8.10 ('venv')",
   "language": "python",
   "name": "python3"
  },
  "language_info": {
   "codemirror_mode": {
    "name": "ipython",
    "version": 3
   },
   "file_extension": ".py",
   "mimetype": "text/x-python",
   "name": "python",
   "nbconvert_exporter": "python",
   "pygments_lexer": "ipython3",
   "version": "3.8.10"
  },
  "orig_nbformat": 4
 },
 "nbformat": 4,
 "nbformat_minor": 2
}
