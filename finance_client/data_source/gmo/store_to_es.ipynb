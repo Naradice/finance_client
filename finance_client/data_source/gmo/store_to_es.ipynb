{
 "cells": [
  {
   "cell_type": "code",
   "execution_count": null,
   "metadata": {},
   "outputs": [],
   "source": [
    "import json, os\n",
    "import pandas as pd\n",
    "import base64\n",
    "import datetime\n",
    "import urllib.request"
   ]
  },
  {
   "cell_type": "code",
   "execution_count": null,
   "metadata": {},
   "outputs": [],
   "source": [
    "last_file_name = \"\"\n",
    "LAST_FILE_KEY = \"last_sent_file_to_ES\"\n",
    "with open(\"config.json\", \"r\") as f:\n",
    "    file_content = f.read()"
   ]
  },
  {
   "cell_type": "code",
   "execution_count": null,
   "metadata": {},
   "outputs": [],
   "source": [
    "file_content_json = json.loads(file_content)\n",
    "file_content_json[LAST_FILE_KEY]\n",
    "username = file_content_json['user']\n",
    "password = file_content_json['pass']"
   ]
  },
  {
   "cell_type": "code",
   "execution_count": null,
   "metadata": {},
   "outputs": [],
   "source": [
    "def parse_file_name(file_name):\n",
    "    if type(file_name) == str:\n",
    "        file_name_, extension = file_name.split('.')\n",
    "        if 'csv' == extension:\n",
    "            date_str, coin_type = file_name_.split('_')\n",
    "            if len(date_str) == 8:\n",
    "                year = date_str[:4]\n",
    "                month = date_str[4:6]\n",
    "                day = date_str[6:]\n",
    "                return True, year, month, day, coin_type, extension\n",
    "            return False, None, None, None, coin_type, extension\n",
    "        else:\n",
    "            return False, None, None, None, None, extension\n",
    "    else:\n",
    "        return False,None, None, None, None, None"
   ]
  },
  {
   "cell_type": "code",
   "execution_count": null,
   "metadata": {},
   "outputs": [],
   "source": [
    "suc, year, month, day, coin_type, extension = parse_file_name(file_content_json[LAST_FILE_KEY])\n",
    "last_date = datetime.datetime(year=int(year), month=int(month), day=int(day))\n",
    "start_date = last_date"
   ]
  },
  {
   "cell_type": "code",
   "execution_count": null,
   "metadata": {},
   "outputs": [],
   "source": [
    "while start_date < datetime.datetime.now():\n",
    "    ## convert date str to date then add one day\n",
    "    delta = datetime.timedelta(days=1)\n",
    "    start_date += delta\n",
    "\n",
    "\n",
    "    year = start_date.year\n",
    "    month = \"{0:02d}\".format(start_date.month)\n",
    "    day = \"{0:02d}\".format(start_date.day)\n",
    "    file_name = f\"{year}{month}{day}_{coin_type}.{extension}\"\n",
    "    path = os.path.join('resources', file_name)\n",
    "    if os.path.exists(path) == False:\n",
    "        print(f\"file not exist. stop the execution. {path}\")\n",
    "        continue\n",
    "    \n",
    "    ## read csv as DataFrame\n",
    "    contents = pd.read_csv(path)\n",
    "    \n",
    "    ## Convert DataFrame to desired json format\n",
    "    scheme_template = {\n",
    "        \"price\":None,\n",
    "        \"doc_id\":None,\n",
    "        \"provider\":None,\n",
    "        \"type\":None,\n",
    "        \"order\":None,\n",
    "        \"amount\":None,\n",
    "        \"scheme\":None,\n",
    "        \"@timestamp\":None\n",
    "    }\n",
    "\n",
    "    last_timestamp = datetime.datetime.now()\n",
    "    same_time_counter = 0\n",
    "\n",
    "    for index in range(0, len(contents)):\n",
    "        order_log = scheme_template.copy()\n",
    "        order_log[\"provider\"]= 'gmo'\n",
    "        order_log[\"type\"] = 'btc_jpy'#buy_sell\n",
    "        order_log[\"scheme\"] = 'order'#board or order\n",
    "\n",
    "        content = contents.iloc[index]\n",
    "        doctime = datetime.datetime.strptime(content.timestamp, \"%Y-%m-%d %H:%M:%S.%f\")\n",
    "        if last_timestamp == doctime:\n",
    "            same_time_counter += 1\n",
    "        else:\n",
    "            last_timestamp = doctime\n",
    "            same_time_counter = 0\n",
    "        doc_id = str(doctime.timestamp()).replace('.', '') + \"{0:03d}\".format(same_time_counter)\n",
    "        order_log[\"price\"] = content.price\n",
    "        order_log[\"amount\"] = str(content[\"size\"])\n",
    "        order_log[\"doc_id\"] = doc_id\n",
    "        order_log[\"order\"] = content.side\n",
    "        order_log[\"@timestamp\"] = content.timestamp.replace(' ', 'T') + \"+09:00\"\n",
    "\n",
    "        ## Send json to ES with creds -- TODO: read ES creds from env file.\n",
    "        body = json.dumps(order_log)\n",
    "        url = \"http://192.168.100.144:5400\"\n",
    "\n",
    "        req = urllib.request.Request(url)\n",
    "        req.add_header('Content-Type', 'application/json; charset=utf-8')\n",
    "        jsondataasbytes = body.encode('utf-8')   # needs to be bytes\n",
    "        req.add_header('Content-Length', len(jsondataasbytes))\n",
    "        creds = base64.b64encode(('f{username}:{password}').encode('utf-8'))\n",
    "        req.add_header('Authorization', f'Basic {creds}')\n",
    "        ## Add error handling and retry logic \n",
    "        response = urllib.request.urlopen(req, jsondataasbytes)"
   ]
  },
  {
   "cell_type": "code",
   "execution_count": null,
   "metadata": {},
   "outputs": [],
   "source": [
    "# When timeout is happend, try again\n",
    "start_date = start_date - delta"
   ]
  },
  {
   "cell_type": "code",
   "execution_count": null,
   "metadata": {},
   "outputs": [],
   "source": [
    "contents\n",
    "#maybe timestamp is JST?"
   ]
  }
 ],
 "metadata": {
  "language_info": {
   "name": "python"
  },
  "orig_nbformat": 4
 },
 "nbformat": 4,
 "nbformat_minor": 2
}
