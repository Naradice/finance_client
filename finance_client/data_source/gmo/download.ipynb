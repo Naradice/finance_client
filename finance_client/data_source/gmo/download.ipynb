{
 "cells": [
  {
   "cell_type": "code",
   "execution_count": null,
   "id": "0037817d",
   "metadata": {},
   "outputs": [],
   "source": [
    "import os\n",
    "import datetime\n",
    "from datetime import date\n",
    "from datetime import timedelta"
   ]
  },
  {
   "cell_type": "code",
   "execution_count": 2,
   "id": "e825c668",
   "metadata": {},
   "outputs": [],
   "source": [
    "coin_state = {\n",
    "    'BTC':{'start_date':date(2018,9,6)}\n",
    "}"
   ]
  },
  {
   "cell_type": "code",
   "execution_count": 3,
   "id": "a54a79b7",
   "metadata": {},
   "outputs": [],
   "source": [
    "url_base = \"https://api.coin.z.com/data/trades\"\n",
    "#BTC/2018/09/20180905_BTC.csv.gz"
   ]
  },
  {
   "cell_type": "code",
   "execution_count": 4,
   "id": "f5878dce",
   "metadata": {},
   "outputs": [],
   "source": [
    "import io\n",
    "import urllib.request\n",
    "import gzip"
   ]
  },
  {
   "cell_type": "code",
   "execution_count": 5,
   "id": "bb2fe5d0",
   "metadata": {},
   "outputs": [],
   "source": [
    "# URL\n",
    "for coin in coin_state:\n",
    "    target_date = coin_state[coin]['start_date']\n",
    "    delta = timedelta(days=1)\n",
    "    while target_date != date.today():\n",
    "        year = target_date.year\n",
    "        month = \"{0:02d}\".format(target_date.month)\n",
    "        day = \"{0:02d}\".format(target_date.day)\n",
    "        file_name = f\"{year}{month}{day}_{coin}.csv\"\n",
    "        url = f\"{url_base}/{coin}/{year}/{month}/{file_name}.gz\"\n",
    "        if os.path.exists(f'resources/{file_name}') == False:\n",
    "            try:\n",
    "                # Read the file inside the .gz archive located at url\n",
    "                with urllib.request.urlopen(url) as r:\n",
    "                    with gzip.GzipFile(fileobj=r) as uncompressed:\n",
    "                        file_content = uncompressed.read()\n",
    "\n",
    "                # write to file in binary mode 'wb'\n",
    "                with open(f'data/{file_name}', 'wb') as f:\n",
    "                    f.write(file_content)\n",
    "\n",
    "            except Exception as e:\n",
    "                print(f\"Error occured on {url}\")\n",
    "                print(e)\n",
    "        \n",
    "        target_date += delta"
   ]
  }
 ],
 "metadata": {
  "kernelspec": {
   "display_name": "Python 3 (ipykernel)",
   "language": "python",
   "name": "python3"
  },
  "language_info": {
   "codemirror_mode": {
    "name": "ipython",
    "version": 3
   },
   "file_extension": ".py",
   "mimetype": "text/x-python",
   "name": "python",
   "nbconvert_exporter": "python",
   "pygments_lexer": "ipython3",
   "version": "3.8.10"
  }
 },
 "nbformat": 4,
 "nbformat_minor": 5
}
