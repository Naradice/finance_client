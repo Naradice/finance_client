{
 "cells": [
  {
   "cell_type": "code",
   "execution_count": 1,
   "metadata": {},
   "outputs": [],
   "source": [
    "import os\n",
    "import sys\n",
    "\n",
    "import pandas as pd\n",
    "\n",
    "module_path = os.path.abspath(\"..\")\n",
    "sys.path.append(module_path)\n",
    "\n",
    "import finance_client as fc\n",
    "from finance_client.render import graph"
   ]
  },
  {
   "cell_type": "code",
   "execution_count": 2,
   "metadata": {},
   "outputs": [],
   "source": [
    "data_folder = \"L:/data/\"\n",
    "file_name_generator = lambda symbol: f\"{data_folder}/yfinance/yfinance_{symbol}.T_D1.csv\""
   ]
  },
  {
   "cell_type": "code",
   "execution_count": 3,
   "metadata": {},
   "outputs": [
    {
     "data": {
      "text/html": [
       "<div>\n",
       "<style scoped>\n",
       "    .dataframe tbody tr th:only-of-type {\n",
       "        vertical-align: middle;\n",
       "    }\n",
       "\n",
       "    .dataframe tbody tr th {\n",
       "        vertical-align: top;\n",
       "    }\n",
       "\n",
       "    .dataframe thead th {\n",
       "        text-align: right;\n",
       "    }\n",
       "</style>\n",
       "<table border=\"1\" class=\"dataframe\">\n",
       "  <thead>\n",
       "    <tr style=\"text-align: right;\">\n",
       "      <th></th>\n",
       "      <th>symbol</th>\n",
       "      <th>time</th>\n",
       "      <th>price</th>\n",
       "      <th>amount</th>\n",
       "      <th>position_type</th>\n",
       "      <th>order_type</th>\n",
       "      <th>logged_at</th>\n",
       "    </tr>\n",
       "  </thead>\n",
       "  <tbody>\n",
       "    <tr>\n",
       "      <th>0</th>\n",
       "      <td>2914</td>\n",
       "      <td>2024-02-01</td>\n",
       "      <td>NaN</td>\n",
       "      <td>1</td>\n",
       "      <td>1</td>\n",
       "      <td>open</td>\n",
       "      <td>2024-02-01</td>\n",
       "    </tr>\n",
       "    <tr>\n",
       "      <th>1</th>\n",
       "      <td>7751</td>\n",
       "      <td>2024-02-01</td>\n",
       "      <td>NaN</td>\n",
       "      <td>1</td>\n",
       "      <td>1</td>\n",
       "      <td>open</td>\n",
       "      <td>2024-02-01</td>\n",
       "    </tr>\n",
       "    <tr>\n",
       "      <th>2</th>\n",
       "      <td>8795</td>\n",
       "      <td>2024-02-01</td>\n",
       "      <td>NaN</td>\n",
       "      <td>1</td>\n",
       "      <td>1</td>\n",
       "      <td>open</td>\n",
       "      <td>2024-02-01</td>\n",
       "    </tr>\n",
       "    <tr>\n",
       "      <th>3</th>\n",
       "      <td>7261</td>\n",
       "      <td>2024-02-01</td>\n",
       "      <td>NaN</td>\n",
       "      <td>1</td>\n",
       "      <td>1</td>\n",
       "      <td>open</td>\n",
       "      <td>2024-02-01</td>\n",
       "    </tr>\n",
       "    <tr>\n",
       "      <th>4</th>\n",
       "      <td>9202</td>\n",
       "      <td>2024-02-01</td>\n",
       "      <td>NaN</td>\n",
       "      <td>1</td>\n",
       "      <td>1</td>\n",
       "      <td>open</td>\n",
       "      <td>2024-02-01</td>\n",
       "    </tr>\n",
       "  </tbody>\n",
       "</table>\n",
       "</div>"
      ],
      "text/plain": [
       "   symbol       time  price  amount  position_type order_type   logged_at\n",
       "0    2914 2024-02-01    NaN       1              1       open  2024-02-01\n",
       "1    7751 2024-02-01    NaN       1              1       open  2024-02-01\n",
       "2    8795 2024-02-01    NaN       1              1       open  2024-02-01\n",
       "3    7261 2024-02-01    NaN       1              1       open  2024-02-01\n",
       "4    9202 2024-02-01    NaN       1              1       open  2024-02-01"
      ]
     },
     "execution_count": 3,
     "metadata": {},
     "output_type": "execute_result"
    }
   ],
   "source": [
    "log_df = pd.read_csv(f\"{data_folder}/trade/finance_client_trading_log.csv\", parse_dates=[\"time\"])\n",
    "log_df.head()"
   ]
  },
  {
   "cell_type": "code",
   "execution_count": 4,
   "metadata": {},
   "outputs": [
    {
     "name": "stderr",
     "output_type": "stream",
     "text": [
      "f:\\d_drive\\workspace\\finance_client\\finance_client\\render\\graph.py:422: UserWarning: Matplotlib is currently using module://matplotlib_inline.backend_inline, which is a non-GUI backend, so cannot show the figure.\n",
      "  self.fig.show()\n"
     ]
    },
    {
     "data": {
      "image/png": "[encoded data removed]",
      "text/plain": [
       "<Figure size 640x480 with 1 Axes>"
      ]
     },
     "metadata": {},
     "output_type": "display_data"
    }
   ],
   "source": [
    "for symbol in log_df[\"symbol\"]:\n",
    "    render = graph.Rendere()\n",
    "    symbol_df = log_df[log_df[\"symbol\"] == symbol]\n",
    "    start_date = symbol_df[\"time\"].max()\n",
    "    symbol_file = file_name_generator(symbol)\n",
    "    client = fc.CSVClient(symbol_file, start_date=start_date, date_column=\"Datetime\")\n",
    "    ohlc_df = client.get_ohlc(100)\n",
    "    positions = [0 for i in range(len(ohlc_df))]\n",
    "    prices = positions.copy()\n",
    "    time_index = 0\n",
    "    for index, position_time in enumerate(symbol_df[\"time\"]):\n",
    "        while time_index < len(ohlc_df) and ohlc_df.index[time_index] < position_time:\n",
    "            positions[time_index] = 0\n",
    "            prices[time_index] = ohlc_df[\"Close\"].iloc[time_index]\n",
    "            time_index += 1\n",
    "        if time_index < len(ohlc_df):\n",
    "            if symbol_df[\"order_type\"].iloc[index] == \"open\":\n",
    "                positions[time_index] = int(symbol_df[\"position_type\"].iloc[index])\n",
    "            else:\n",
    "                if symbol_df[\"position_type\"].iloc[index] == 1:\n",
    "                    position = -2\n",
    "                else:\n",
    "                    position = -1\n",
    "                positions[time_index] = position\n",
    "            prices[time_index] = ohlc_df[\"Close\"].iloc[time_index]\n",
    "            time_index += 1\n",
    "    graph_index = render.register_ohlc([symbol], ohlc_df, title=f\"{symbol}\")\n",
    "    if len(positions) == len(ohlc_df):\n",
    "        render.add_trade_histories_to_ohlc(positions, prices, graph_index)\n",
    "    else:\n",
    "        print(\"invalid positions\")\n",
    "    render.plot()\n",
    "    input(\"Please enter any key to show next\")\n",
    "    render.close()\n",
    "    break"
   ]
  }
 ],
 "metadata": {
  "kernelspec": {
   "display_name": "venv_38",
   "language": "python",
   "name": "python3"
  },
  "language_info": {
   "codemirror_mode": {
    "name": "ipython",
    "version": 3
   },
   "file_extension": ".py",
   "mimetype": "text/x-python",
   "name": "python",
   "nbconvert_exporter": "python",
   "pygments_lexer": "ipython3",
   "version": "3.8.10"
  }
 },
 "nbformat": 4,
 "nbformat_minor": 2
}
