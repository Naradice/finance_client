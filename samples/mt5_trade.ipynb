{
 "cells": [
  {
   "cell_type": "code",
   "execution_count": 1,
   "metadata": {},
   "outputs": [],
   "source": [
    "import os\n",
    "import sys\n",
    "\n",
    "import dotenv\n",
    "import MetaTrader5 as mt5\n",
    "\n",
    "try:\n",
    "    dotenv.load_dotenv(\".env\")\n",
    "except Exception as e:\n",
    "    raise e\n",
    "module_path = \"../\"\n",
    "sys.path.append(module_path)\n",
    "\n",
    "tgt_symbol = \"USDJPY\""
   ]
  },
  {
   "cell_type": "code",
   "execution_count": 2,
   "metadata": {},
   "outputs": [
    {
     "data": {
      "text/plain": [
       "True"
      ]
     },
     "execution_count": 2,
     "metadata": {},
     "output_type": "execute_result"
    }
   ],
   "source": [
    "mt5.initialize()\n",
    "\n",
    "authorized = mt5.login(\n",
    "    int(os.environ[\"mt5_id\"]),\n",
    "    password=os.environ[\"mt5_password\"],\n",
    "    server=os.environ[\"mt5_server\"],\n",
    ")\n",
    "authorized"
   ]
  },
  {
   "cell_type": "code",
   "execution_count": 4,
   "metadata": {},
   "outputs": [],
   "source": [
    "results = []"
   ]
  },
  {
   "cell_type": "code",
   "execution_count": 5,
   "metadata": {},
   "outputs": [
    {
     "data": {
      "text/plain": [
       "array([(1749819120, 144.06, 144.081, 144.052, 144.078, 54, 3, 0)],\n",
       "      dtype=[('time', '<i8'), ('open', '<f8'), ('high', '<f8'), ('low', '<f8'), ('close', '<f8'), ('tick_volume', '<u8'), ('spread', '<i4'), ('real_volume', '<u8')])"
      ]
     },
     "execution_count": 5,
     "metadata": {},
     "output_type": "execute_result"
    }
   ],
   "source": [
    "rates = mt5.copy_rates_from_pos(tgt_symbol, mt5.TIMEFRAME_M1, 0, 1)\n",
    "rates"
   ]
  },
  {
   "cell_type": "code",
   "execution_count": 36,
   "metadata": {},
   "outputs": [],
   "source": [
    "to_buy = False\n",
    "\n",
    "if to_buy:\n",
    "    order_type = mt5.ORDER_TYPE_BUY\n",
    "else:\n",
    "    order_type = mt5.ORDER_TYPE_SELL\n",
    "\n",
    "request = {\n",
    "    \"action\": mt5.TRADE_ACTION_DEAL,\n",
    "    \"symbol\": tgt_symbol,\n",
    "    \"volume\": 0.1,\n",
    "    \"price\": rates[0][4],\n",
    "    \"deviation\": 10,\n",
    "    \"magic\": 100000000,\n",
    "    \"comment\": \"python script open\",\n",
    "    \"type_time\": mt5.ORDER_TIME_GTC,\n",
    "    \"type\": order_type,\n",
    "    \"type_filling\": mt5.ORDER_FILLING_IOC,  # depends on broker\n",
    "}\n",
    "\n",
    "result = mt5.order_send(request)\n",
    "if result is None:\n",
    "    raise Exception(\"failed order\")\n",
    "else:\n",
    "    results.append(result)"
   ]
  },
  {
   "cell_type": "code",
   "execution_count": 44,
   "metadata": {},
   "outputs": [
    {
     "data": {
      "text/plain": [
       "(TradePosition(ticket=27599670, time=1749826541, time_msc=1749826541953, time_update=1749826541, time_update_msc=1749826541953, type=1, magic=100000000, identifier=27599670, reason=3, volume=0.1, price_open=144.214, sl=0.0, tp=0.0, price_current=144.167, swap=0.0, profit=470.0, symbol='USDJPY', comment='python script op', external_id=''),)"
      ]
     },
     "execution_count": 44,
     "metadata": {},
     "output_type": "execute_result"
    }
   ],
   "source": [
    "mt5.positions_get()"
   ]
  },
  {
   "cell_type": "code",
   "execution_count": 46,
   "metadata": {},
   "outputs": [
    {
     "data": {
      "text/plain": [
       "OrderSendResult(retcode=10009, deal=0, order=0, volume=0.1, price=0.0, bid=0.0, ask=0.0, comment='Request executed', request_id=2367239113, retcode_external=0, request=TradeRequest(action=6, magic=0, order=0, symbol='', volume=0.0, price=0.0, stoplimit=0.0, sl=144.34199999999998, tp=143.942, deviation=0, type=0, type_filling=0, type_time=0, expiration=0, comment='python script modify', position=27599670, position_by=0))"
      ]
     },
     "execution_count": 46,
     "metadata": {},
     "output_type": "execute_result"
    }
   ],
   "source": [
    "rates = mt5.copy_rates_from_pos(tgt_symbol, mt5.TIMEFRAME_M1, 0, 1)\n",
    "if to_buy:\n",
    "    sign = +1\n",
    "else:\n",
    "    sign = -1\n",
    "\n",
    "request = {\n",
    "    \"action\": mt5.TRADE_ACTION_SLTP,\n",
    "    \"tp\": rates[0][4] + sign*0.2,\n",
    "    \"sl\": rates[0][4] - sign*0.2,\n",
    "    \"comment\": \"python script modify\",\n",
    "    \"position\": results[-1].order\n",
    "}\n",
    "\n",
    "result = mt5.order_send(request)\n",
    "if result is None:\n",
    "    raise Exception(\"failed order\")\n",
    "result"
   ]
  },
  {
   "cell_type": "code",
   "execution_count": 13,
   "metadata": {},
   "outputs": [
    {
     "data": {
      "text/plain": [
       "OrderSendResult(retcode=10009, deal=0, order=27594167, volume=0.1, price=0.0, bid=0.0, ask=0.0, comment='Request executed', request_id=2367239098, retcode_external=0, request=TradeRequest(action=1, magic=100000000, order=0, symbol='USDJPY', volume=0.1, price=144.078, stoplimit=0.0, sl=0.0, tp=0.0, deviation=10, type=1, type_filling=1, type_time=0, expiration=0, comment='python script open', position=0, position_by=0))"
      ]
     },
     "execution_count": 13,
     "metadata": {},
     "output_type": "execute_result"
    }
   ],
   "source": [
    "results[0]"
   ]
  },
  {
   "cell_type": "code",
   "execution_count": 26,
   "metadata": {},
   "outputs": [
    {
     "data": {
      "text/plain": [
       "OrderSendResult(retcode=10019, deal=0, order=0, volume=0.0, price=0.0, bid=0.0, ask=0.0, comment='No money', request_id=3871166347, retcode_external=0, request=TradeRequest(action=1, magic=100000000, order=0, symbol='USDJPY', volume=0.1, price=145.112, stoplimit=0.0, sl=0.0, tp=0.0, deviation=10, type=1, type_filling=1, type_time=0, expiration=0, comment='python script open', position=0, position_by=0))"
      ]
     },
     "execution_count": 26,
     "metadata": {},
     "output_type": "execute_result"
    }
   ],
   "source": [
    "results[-1]"
   ]
  },
  {
   "cell_type": "code",
   "execution_count": 66,
   "metadata": {},
   "outputs": [
    {
     "data": {
      "text/plain": [
       "(TradePosition(ticket=27487172, time=1749652945, time_msc=1749652945927, time_update=1749652945, time_update_msc=1749652945927, type=0, magic=100000000, identifier=27487172, reason=3, volume=0.1, price_open=145.21, sl=0.0, tp=0.0, price_current=145.21, swap=0.0, profit=0.0, symbol='USDJPY', comment='python script op', external_id=''),)"
      ]
     },
     "execution_count": 66,
     "metadata": {},
     "output_type": "execute_result"
    }
   ],
   "source": [
    "mt5.positions_get()"
   ]
  },
  {
   "cell_type": "code",
   "execution_count": null,
   "metadata": {},
   "outputs": [],
   "source": [
    "rates = mt5.copy_rates_from_pos(tgt_symbol, mt5.TIMEFRAME_M1, 0, 1)\n",
    "if to_buy:\n",
    "    order_type = mt5.ORDER_TYPE_SELL\n",
    "else:\n",
    "    order_type = mt5.ORDER_TYPE_BUY\n",
    "    \n",
    "for result in results:\n",
    "    request = {\n",
    "        \"action\": mt5.TRADE_ACTION_DEAL,\n",
    "        \"symbol\": tgt_symbol,\n",
    "        \"volume\": 0.1,\n",
    "        \"price\": rates[0][4],\n",
    "        \"deviation\": 10,\n",
    "        \"magic\": 100000000,\n",
    "        \"comment\": \"python script close\",\n",
    "        \"type_time\": mt5.ORDER_TIME_GTC,\n",
    "        \"type\": order_type,\n",
    "        \"type_filling\": mt5.ORDER_FILLING_IOC,  # depends on broker\n",
    "        \"position\": result.order\n",
    "    }\n",
    "\n",
    "    closed_result = mt5.order_send(request)\n",
    "    print(closed_result)"
   ]
  },
  {
   "cell_type": "code",
   "execution_count": 18,
   "metadata": {},
   "outputs": [],
   "source": [
    "rates = mt5.copy_rates_from_pos(tgt_symbol, mt5.TIMEFRAME_M1, 0, 1)\n",
    "request = {\n",
    "    \"action\": mt5.TRADE_ACTION_PENDING,\n",
    "    \"symbol\": tgt_symbol,\n",
    "    \"volume\": 0.1,\n",
    "    \"price\": rates[0][4] - 0.1,\n",
    "    \"deviation\": 10,\n",
    "    \"magic\": 100000000,\n",
    "    \"comment\": \"python script pending\",\n",
    "    \"type_time\": mt5.ORDER_TIME_GTC,\n",
    "    \"type\": mt5.ORDER_TYPE_BUY_LIMIT,\n",
    "    \"type_filling\": mt5.ORDER_FILLING_IOC,\n",
    "    \"expiration\": 1000*60\n",
    "}\n",
    "\n",
    "result = mt5.order_send(request)\n",
    "if result is None:\n",
    "    raise Exception(\"failed order\")"
   ]
  },
  {
   "cell_type": "code",
   "execution_count": 19,
   "metadata": {},
   "outputs": [
    {
     "data": {
      "text/plain": [
       "OrderSendResult(retcode=10009, deal=0, order=27599125, volume=0.1, price=0.0, bid=144.189, ask=144.189, comment='Request executed', request_id=2367239106, retcode_external=0, request=TradeRequest(action=5, magic=100000000, order=0, symbol='USDJPY', volume=0.1, price=144.189, stoplimit=0.0, sl=0.0, tp=0.0, deviation=10, type=2, type_filling=1, type_time=0, expiration=60000, comment='python script pending', position=0, position_by=0))"
      ]
     },
     "execution_count": 19,
     "metadata": {},
     "output_type": "execute_result"
    }
   ],
   "source": [
    "result"
   ]
  },
  {
   "cell_type": "code",
   "execution_count": 30,
   "metadata": {},
   "outputs": [
    {
     "data": {
      "text/plain": [
       "(TradeOrder(ticket=27599125, time_setup=1749825479, time_setup_msc=1749825479314, time_done=0, time_done_msc=0, time_expiration=0, type=2, type_time=0, type_filling=2, state=1, magic=100000000, position_id=0, position_by_id=0, reason=3, volume_initial=0.1, volume_current=0.1, price_open=144.059, sl=0.0, tp=0.0, price_current=144.272, price_stoplimit=0.0, symbol='USDJPY', comment='python script pe', external_id=''),)"
      ]
     },
     "execution_count": 30,
     "metadata": {},
     "output_type": "execute_result"
    }
   ],
   "source": [
    "orders = mt5.orders_get()\n",
    "orders"
   ]
  },
  {
   "cell_type": "code",
   "execution_count": 35,
   "metadata": {},
   "outputs": [
    {
     "data": {
      "text/plain": [
       "OrderSendResult(retcode=10009, deal=0, order=27599125, volume=0.1, price=144.058, bid=144.058, ask=144.058, comment='Request executed', request_id=2367239110, retcode_external=0, request=TradeRequest(action=7, magic=0, order=27599125, symbol='', volume=0.0, price=144.05800000000002, stoplimit=0.0, sl=0.0, tp=144.458, deviation=0, type=0, type_filling=0, type_time=0, expiration=0, comment='', position=0, position_by=0))"
      ]
     },
     "execution_count": 35,
     "metadata": {},
     "output_type": "execute_result"
    }
   ],
   "source": [
    "rates = mt5.copy_rates_from_pos(tgt_symbol, mt5.TIMEFRAME_M1, 0, 1)\n",
    "request = {\n",
    "    \"action\": mt5.TRADE_ACTION_MODIFY,\n",
    "    \"price\": rates[0][4] - 0.2,\n",
    "    \"tp\": rates[0][4] + 0.2,\n",
    "    \"order\": orders[0].ticket\n",
    "}\n",
    "\n",
    "result = mt5.order_send(request)\n",
    "if result is None:\n",
    "    raise Exception(\"failed order\")\n",
    "result"
   ]
  },
  {
   "cell_type": "code",
   "execution_count": 55,
   "metadata": {},
   "outputs": [
    {
     "data": {
      "text/plain": [
       "OrderSendResult(retcode=10013, deal=0, order=0, volume=0.0, price=0.0, bid=0.0, ask=0.0, comment='Invalid request', request_id=0, retcode_external=0, request=TradeRequest(action=7, magic=100000000, order=27486434, symbol='USDJPY', volume=0.1, price=145.112, stoplimit=0.0, sl=0.0, tp=0.0, deviation=10, type=2, type_filling=1, type_time=0, expiration=0, comment='python script open', position=0, position_by=0))"
      ]
     },
     "execution_count": 55,
     "metadata": {},
     "output_type": "execute_result"
    }
   ],
   "source": [
    "result"
   ]
  },
  {
   "cell_type": "code",
   "execution_count": 63,
   "metadata": {},
   "outputs": [
    {
     "data": {
      "text/plain": [
       "OrderSendResult(retcode=10009, deal=0, order=27486601, volume=0.1, price=145.101, bid=145.101, ask=145.101, comment='Request executed', request_id=3871166366, retcode_external=0, request=TradeRequest(action=8, magic=0, order=27486601, symbol='', volume=0.0, price=0.0, stoplimit=0.0, sl=0.0, tp=0.0, deviation=0, type=0, type_filling=0, type_time=0, expiration=0, comment='', position=0, position_by=0))"
      ]
     },
     "execution_count": 63,
     "metadata": {},
     "output_type": "execute_result"
    }
   ],
   "source": [
    "request = {\"action\": mt5.TRADE_ACTION_REMOVE, \"order\": 27486601}\n",
    "result = mt5.order_send(request)\n",
    "result"
   ]
  },
  {
   "cell_type": "code",
   "execution_count": null,
   "metadata": {},
   "outputs": [],
   "source": []
  }
 ],
 "metadata": {
  "kernelspec": {
   "display_name": "venv312",
   "language": "python",
   "name": "python3"
  },
  "language_info": {
   "codemirror_mode": {
    "name": "ipython",
    "version": 3
   },
   "file_extension": ".py",
   "mimetype": "text/x-python",
   "name": "python",
   "nbconvert_exporter": "python",
   "pygments_lexer": "ipython3",
   "version": "3.12.4"
  }
 },
 "nbformat": 4,
 "nbformat_minor": 2
}
