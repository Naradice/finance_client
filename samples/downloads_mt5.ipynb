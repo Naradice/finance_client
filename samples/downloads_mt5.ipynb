{
 "cells": [
  {
   "cell_type": "code",
   "execution_count": 1,
   "metadata": {},
   "outputs": [],
   "source": [
    "import os\n",
    "import sys\n",
    "\n",
    "import dotenv\n",
    "import MetaTrader5 as mt5\n",
    "\n",
    "module_path = \"../\"\n",
    "sys.path.append(module_path)\n",
    "import finance_client as fc\n",
    "\n",
    "os.environ[\"data_path\"] = \"./data\"\n",
    "\n",
    "try:\n",
    "    dotenv.load_dotenv(\".env\")\n",
    "except Exception as e:\n",
    "    raise e"
   ]
  },
  {
   "cell_type": "code",
   "execution_count": 8,
   "metadata": {},
   "outputs": [],
   "source": [
    "if not mt5.initialize():\n",
    "   print(\"initialize() failed, error code =\",mt5.last_error())"
   ]
  },
  {
   "cell_type": "code",
   "execution_count": 10,
   "metadata": {},
   "outputs": [
    {
     "data": {
      "text/plain": [
       "True"
      ]
     },
     "execution_count": 10,
     "metadata": {},
     "output_type": "execute_result"
    }
   ],
   "source": [
    "authorized = mt5.login(\n",
    "    int(os.environ[\"mt5_id\"]),\n",
    "    password=os.environ[\"mt5_password\"],\n",
    "    server=os.environ[\"mt5_server\"],\n",
    ")\n",
    "authorized"
   ]
  },
  {
   "cell_type": "code",
   "execution_count": 11,
   "metadata": {},
   "outputs": [],
   "source": [
    "symbols = mt5.symbols_get()\n",
    "fx_symbols = [symbol.name for symbol in symbols]"
   ]
  },
  {
   "cell_type": "code",
   "execution_count": null,
   "metadata": {},
   "outputs": [],
   "source": [
    "for symbol in fx_symbols:\n",
    "    client = fc.MT5Client(symbols=[symbol], frame=fc.frames.D1, id=int(os.environ[\"mt5_id\"]), password=os.environ[\"mt5_password\"],server=os.environ[\"mt5_server\"])\n",
    "    client.download()"
   ]
  }
 ],
 "metadata": {
  "kernelspec": {
   "display_name": "venv312",
   "language": "python",
   "name": "python3"
  },
  "language_info": {
   "codemirror_mode": {
    "name": "ipython",
    "version": 3
   },
   "file_extension": ".py",
   "mimetype": "text/x-python",
   "name": "python",
   "nbconvert_exporter": "python",
   "pygments_lexer": "ipython3",
   "version": "3.12.4"
  },
  "orig_nbformat": 4
 },
 "nbformat": 4,
 "nbformat_minor": 2
}
